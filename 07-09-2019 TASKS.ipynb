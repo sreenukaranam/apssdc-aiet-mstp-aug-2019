{
 "cells": [
  {
   "cell_type": "markdown",
   "metadata": {},
   "source": [
    "## Question-1: Write a Python Program to print the sum of digits in a given string(using input statement)"
   ]
  },
  {
   "cell_type": "code",
   "execution_count": 1,
   "metadata": {},
   "outputs": [
    {
     "name": "stdout",
     "output_type": "stream",
     "text": [
      "16811A0205\n",
      "24\n"
     ]
    }
   ],
   "source": [
    "rollno=input()\n",
    "l=len(rollno)\n",
    "sum=0\n",
    "for i in range(0,l):\n",
    "    if rollno[i].isdigit():\n",
    "        sum=sum+int(rollno[i])\n",
    "print(sum)            "
   ]
  },
  {
   "cell_type": "markdown",
   "metadata": {},
   "source": [
    "## Question -2: Write a python program to find the weight of given string (character a weight is 1 and b is 2 and z is 26 like that)"
   ]
  },
  {
   "cell_type": "code",
   "execution_count": 2,
   "metadata": {},
   "outputs": [
    {
     "name": "stdout",
     "output_type": "stream",
     "text": [
      "abcdefg\n",
      "1\n",
      "2\n",
      "3\n",
      "4\n",
      "5\n",
      "6\n",
      "7\n",
      "sum of all the character values entered: 28\n"
     ]
    }
   ],
   "source": [
    "st=input()\n",
    "sum=0\n",
    "for char in st:\n",
    "    print(ord(char)-96)\n",
    "    sum=sum+(ord(char)-96)\n",
    "print(\"sum of all the character values entered:\",sum)"
   ]
  },
  {
   "cell_type": "code",
   "execution_count": null,
   "metadata": {},
   "outputs": [],
   "source": []
  }
 ],
 "metadata": {
  "kernelspec": {
   "display_name": "Python 3",
   "language": "python",
   "name": "python3"
  },
  "language_info": {
   "codemirror_mode": {
    "name": "ipython",
    "version": 3
   },
   "file_extension": ".py",
   "mimetype": "text/x-python",
   "name": "python",
   "nbconvert_exporter": "python",
   "pygments_lexer": "ipython3",
   "version": "3.7.3"
  }
 },
 "nbformat": 4,
 "nbformat_minor": 2
}
