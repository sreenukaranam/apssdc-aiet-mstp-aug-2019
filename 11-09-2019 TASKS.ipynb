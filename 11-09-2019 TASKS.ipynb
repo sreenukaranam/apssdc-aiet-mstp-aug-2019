{
 "cells": [
  {
   "cell_type": "markdown",
   "metadata": {},
   "source": [
    "### Question-1:Prime Number: need to print the series of all prime numbers till N.\n",
    "* Input Format:10\n",
    "* Output Format:2 3 5 7"
   ]
  },
  {
   "cell_type": "code",
   "execution_count": 2,
   "metadata": {},
   "outputs": [
    {
     "name": "stdout",
     "output_type": "stream",
     "text": [
      "Enter a range: 20\n",
      "2\n",
      "3\n",
      "5\n",
      "7\n",
      "11\n",
      "13\n",
      "17\n",
      "19\n"
     ]
    }
   ],
   "source": [
    "r=int(input(\"Enter a range: \"))\n",
    "for a in range(2,r+1):\n",
    "    j=0\n",
    "    for i in range(2,a//2+1):\n",
    "        if(a%i==0):\n",
    "            j=j+1\n",
    "    if(j<=0):\n",
    "        print(a)"
   ]
  },
  {
   "cell_type": "markdown",
   "metadata": {},
   "source": [
    "### Question-2:Count Divisors: You have been given 3 integers - l, r and k. Find how many numbers between l and r (both inclusive) are divisible by k.\n",
    "* Input Format:1 10 1\n",
    "* Output Format:10"
   ]
  },
  {
   "cell_type": "code",
   "execution_count": 40,
   "metadata": {},
   "outputs": [
    {
     "name": "stdout",
     "output_type": "stream",
     "text": [
      "2 24 3\n",
      "8\n"
     ]
    }
   ],
   "source": [
    "l,r,k=map(int,input().split(\" \"))\n",
    "count=0\n",
    "for i in range(l,r+1):\n",
    "    if(i%k==0):\n",
    "        count=count+1\n",
    "print(count)        "
   ]
  },
  {
   "cell_type": "markdown",
   "metadata": {},
   "source": [
    "### Question-3:Word Frequency: need to print words with frequency from given sentence (string) in dictionary format\n",
    "* Input Format:ravi ramu balu ravi raghu\n",
    "* Output Format:{“ravi”:2, “ramu”:1, “balu”:1, “raghu”:1}\n"
   ]
  },
  {
   "cell_type": "code",
   "execution_count": 17,
   "metadata": {},
   "outputs": [
    {
     "name": "stdout",
     "output_type": "stream",
     "text": [
      "sreenu vishnu siva ramu sreenu ravi\n",
      "{'sreenu': 2, 'vishnu': 1, 'siva': 1, 'ramu': 1, 'ravi': 1}\n"
     ]
    }
   ],
   "source": [
    "n=input()\n",
    "n_words=n.split(\" \")\n",
    "c={}\n",
    "l=len(n_words)\n",
    "for i in range(0,l):\n",
    "    count=0\n",
    "    for j in range(0,l):\n",
    "         if (n_words[i]==n_words[j]):\n",
    "            count=count+1\n",
    "    c[n_words[i]]=count\n",
    "print(c)"
   ]
  },
  {
   "cell_type": "code",
   "execution_count": null,
   "metadata": {},
   "outputs": [],
   "source": []
  }
 ],
 "metadata": {
  "kernelspec": {
   "display_name": "Python 3",
   "language": "python",
   "name": "python3"
  },
  "language_info": {
   "codemirror_mode": {
    "name": "ipython",
    "version": 3
   },
   "file_extension": ".py",
   "mimetype": "text/x-python",
   "name": "python",
   "nbconvert_exporter": "python",
   "pygments_lexer": "ipython3",
   "version": "3.7.3"
  }
 },
 "nbformat": 4,
 "nbformat_minor": 2
}
