{
 "cells": [
  {
   "cell_type": "markdown",
   "metadata": {},
   "source": [
    "### Dictionaries\n",
    "* Dictionaries ia an unordered set of key and value pair \n",
    "* It is container,that contains data enclosed by \"{}\"\n",
    "* The pair i.e, key and value is known as item"
   ]
  },
  {
   "cell_type": "code",
   "execution_count": 3,
   "metadata": {},
   "outputs": [
    {
     "name": "stdout",
     "output_type": "stream",
     "text": [
      "{1: 'python', 2: 'c', 3: 'Java', 4: 'Android'}\n"
     ]
    }
   ],
   "source": [
    "dict={1:'python',2:'c',3:'Java',4:'Android'}\n",
    "print(dict)"
   ]
  },
  {
   "cell_type": "code",
   "execution_count": 6,
   "metadata": {},
   "outputs": [
    {
     "name": "stdout",
     "output_type": "stream",
     "text": [
      "python\n"
     ]
    }
   ],
   "source": [
    "# Accessing dictionary values\n",
    "dict={1:'python',2:'c',3:'Java','d':\"Android\"}\n",
    "print(dict[1])\n"
   ]
  },
  {
   "cell_type": "code",
   "execution_count": 8,
   "metadata": {},
   "outputs": [
    {
     "name": "stdout",
     "output_type": "stream",
     "text": [
      "python\n",
      "python\n",
      "c\n",
      "Java\n",
      "Android\n"
     ]
    }
   ],
   "source": [
    "dict={1:'python',2:'c',3:'Java','d':\"Android\"}\n",
    "print(dict[1])\n",
    "for x in dict.keys():\n",
    "    print(dict[x])"
   ]
  },
  {
   "cell_type": "code",
   "execution_count": 9,
   "metadata": {},
   "outputs": [
    {
     "name": "stdout",
     "output_type": "stream",
     "text": [
      "dict_keys([1, 2, 3, 'd'])\n"
     ]
    }
   ],
   "source": [
    "dict={1:'python',2:'c',3:'Java','d':\"Android\"}\n",
    "print(dict.keys())"
   ]
  },
  {
   "cell_type": "code",
   "execution_count": 10,
   "metadata": {},
   "outputs": [
    {
     "name": "stdout",
     "output_type": "stream",
     "text": [
      "{1: 'python', 2: 'c', 3: 'Java', 'd': 'Android', 4: 'PHP', 5: 'C#'}\n"
     ]
    }
   ],
   "source": [
    "# Updating the dictionary Elements\n",
    "dict={1:'python',2:'c',3:'Java','d':\"Android\"}\n",
    "dict[4]=\"PHP\"\n",
    "dict[5]='C#'\n",
    "print(dict)"
   ]
  },
  {
   "cell_type": "code",
   "execution_count": 11,
   "metadata": {},
   "outputs": [
    {
     "name": "stdout",
     "output_type": "stream",
     "text": [
      "{1: 'python', 2: 'c', 'd': 'Android'}\n"
     ]
    }
   ],
   "source": [
    "# Deleting Dictionary Elements\n",
    "dict={1:'python',2:'c',3:'Java','d':\"Android\"}\n",
    "del dict[3]\n",
    "print(dict)"
   ]
  },
  {
   "cell_type": "code",
   "execution_count": 12,
   "metadata": {},
   "outputs": [
    {
     "name": "stdout",
     "output_type": "stream",
     "text": [
      "{}\n"
     ]
    }
   ],
   "source": [
    "# Deleting overall dictionary\n",
    "dict={1:'python',2:'c',3:'Java','d':\"Android\"}\n",
    "dict.clear()\n",
    "print(dict)"
   ]
  },
  {
   "cell_type": "code",
   "execution_count": 13,
   "metadata": {},
   "outputs": [
    {
     "name": "stdout",
     "output_type": "stream",
     "text": [
      "4\n"
     ]
    }
   ],
   "source": [
    "#len()\n",
    "dict={1:'python',2:'c',3:'Java','d':\"Android\"}\n",
    "print(len(dict))"
   ]
  },
  {
   "cell_type": "code",
   "execution_count": 14,
   "metadata": {},
   "outputs": [
    {
     "name": "stdout",
     "output_type": "stream",
     "text": [
      "{1: 'python', 2: 'c', 3: 'Java', 'd': 'Android'}\n"
     ]
    }
   ],
   "source": [
    "#str(dict)\n",
    "dict={1:'python',2:'c',3:'Java','d':\"Android\"}\n",
    "print(str(dict))"
   ]
  },
  {
   "cell_type": "code",
   "execution_count": 15,
   "metadata": {},
   "outputs": [
    {
     "name": "stdout",
     "output_type": "stream",
     "text": [
      "<class 'dict'>\n"
     ]
    }
   ],
   "source": [
    "#type()\n",
    "dict={1:'python',2:'c',3:'Java','d':\"Android\"}\n",
    "print(type(dict))"
   ]
  },
  {
   "cell_type": "code",
   "execution_count": 16,
   "metadata": {},
   "outputs": [
    {
     "name": "stdout",
     "output_type": "stream",
     "text": [
      "{1: 'python', 2: 'c', 3: 'Java', 'd': 'Android'}\n"
     ]
    }
   ],
   "source": [
    "#copy()\n",
    "dict1={1:'python',2:'c',3:'Java','d':\"Android\"}\n",
    "dict2=dict1.copy()\n",
    "print(dict2)"
   ]
  },
  {
   "cell_type": "code",
   "execution_count": 17,
   "metadata": {},
   "outputs": [
    {
     "name": "stdout",
     "output_type": "stream",
     "text": [
      "New dict:{'Java': None, 'Android': None, 'python': None}\n",
      "New dictionary:{'Java': 50, 'Android': 50, 'python': 50}\n"
     ]
    }
   ],
   "source": [
    "#fromkey()-- The method from keys() create a new dictionary  with keys from sequence\n",
    "#and values set to a value\n",
    "seq= ('Java','Android','python')\n",
    "dict=dict.fromkeys(seq)\n",
    "print(\"New dict:%s\"% str(dict))\n",
    "dict=dict.fromkeys(seq,50)\n",
    "print(\"New dictionary:%s\" % str(dict))"
   ]
  },
  {
   "cell_type": "code",
   "execution_count": 18,
   "metadata": {},
   "outputs": [
    {
     "name": "stdout",
     "output_type": "stream",
     "text": [
      "{'Java': 50, 'Android': 50, 'python': 50}\n"
     ]
    }
   ],
   "source": [
    "print(dict)"
   ]
  },
  {
   "cell_type": "code",
   "execution_count": 22,
   "metadata": {},
   "outputs": [
    {
     "name": "stdout",
     "output_type": "stream",
     "text": [
      "{1: 'MSTP', 2: 'c', 3: 'Java', 'd': 'Android', 5: 'Digital Tools'}\n"
     ]
    }
   ],
   "source": [
    "#dict1.update(dict2)\n",
    "dict1={1:'python',2:'c',3:'Java','d':\"Android\"}\n",
    "dict2={1:'MSTP',5:'Digital Tools'}\n",
    "dict1.update(dict2)\n",
    "print(dict1)"
   ]
  },
  {
   "cell_type": "code",
   "execution_count": 23,
   "metadata": {},
   "outputs": [
    {
     "name": "stdout",
     "output_type": "stream",
     "text": [
      "{'Java': 50, 'Android': 50, 'python': 50}\n"
     ]
    }
   ],
   "source": [
    "print(dict)"
   ]
  },
  {
   "cell_type": "code",
   "execution_count": 24,
   "metadata": {},
   "outputs": [
    {
     "name": "stdout",
     "output_type": "stream",
     "text": [
      "{1: 'MSTP', 2: 'c', 3: 'Java', 'd': 'Android', 5: 'Digital Tools'}\n"
     ]
    }
   ],
   "source": [
    "print(dict1)"
   ]
  },
  {
   "cell_type": "code",
   "execution_count": 25,
   "metadata": {},
   "outputs": [
    {
     "name": "stdout",
     "output_type": "stream",
     "text": [
      "{1: 'MSTP', 5: 'Digital Tools'}\n"
     ]
    }
   ],
   "source": [
    "print(dict2)"
   ]
  },
  {
   "cell_type": "code",
   "execution_count": 26,
   "metadata": {},
   "outputs": [
    {
     "name": "stdout",
     "output_type": "stream",
     "text": [
      "dict_values(['MSTP', 'c', 'Java', 'Android', 'Digital Tools'])\n"
     ]
    }
   ],
   "source": [
    "#Values\n",
    "dict={1:'python',2:'c',3:'Java','d':\"Android\"}\n",
    "values=dict1.values()\n",
    "print(values)"
   ]
  },
  {
   "cell_type": "code",
   "execution_count": 28,
   "metadata": {},
   "outputs": [
    {
     "name": "stdout",
     "output_type": "stream",
     "text": [
      "sreenu\n",
      "APSSDC\n"
     ]
    }
   ],
   "source": [
    "#dict.setdefault(key,default=none)\n",
    "#dict[key]=default it key is not already in dict\n",
    "#key- searched\n",
    "#default-returned in case key in not found\n",
    "dict={'emp_name':'sreenu','age':21,'emp_id':101}\n",
    "dict.setdefault('company','APSSDC')\n",
    "print(dict['emp_name'])\n",
    "print(dict['company'])"
   ]
  },
  {
   "cell_type": "code",
   "execution_count": 30,
   "metadata": {},
   "outputs": [
    {
     "name": "stdout",
     "output_type": "stream",
     "text": [
      "{'a': 1, 'b': 2, 'c': 3, 'd': 4, 'e': 5}\n"
     ]
    }
   ],
   "source": [
    "#How to create a dictionary from two lists\n",
    "a=[1,2,3,4,5]\n",
    "b=['a','b','c','d','e']\n",
    "c={}\n",
    "for i in range(len(a)):\n",
    "   c[b[i]]=a[i]\n",
    "print(c)"
   ]
  },
  {
   "cell_type": "code",
   "execution_count": 10,
   "metadata": {},
   "outputs": [],
   "source": [
    "#Example program for time and webbrowser modules\n",
    "import webbrowser\n",
    "import time\n",
    "fav_sites=[\"www.google.com\",\"youtube.com\",\"engineering.apssdc.in\"]\n",
    "for url in fav_sites:\n",
    "    webbrowser.open(url)\n",
    "    time.sleep(5)"
   ]
  },
  {
   "cell_type": "code",
   "execution_count": null,
   "metadata": {},
   "outputs": [],
   "source": [
    "# Dictionary is Mutable\n",
    "# key must be unique and immutable value is accesed by key.value can be updated  but key cannot be changed\n",
    "# Dictionary known as  is known as associative array since the key words as index they are decided by the user"
   ]
  },
  {
   "cell_type": "code",
   "execution_count": 12,
   "metadata": {
    "scrolled": true
   },
   "outputs": [
    {
     "data": {
      "text/plain": [
       "2"
      ]
     },
     "execution_count": 12,
     "metadata": {},
     "output_type": "execute_result"
    }
   ],
   "source": [
    "h={1:2,3:4}\n",
    "h.get(1,'no value')"
   ]
  },
  {
   "cell_type": "code",
   "execution_count": 14,
   "metadata": {},
   "outputs": [
    {
     "data": {
      "text/plain": [
       "{'W': 1,\n",
       " 'e': 2,\n",
       " 'l': 1,\n",
       " 'c': 1,\n",
       " 'o': 2,\n",
       " 'm': 1,\n",
       " ' ': 2,\n",
       " 't': 1,\n",
       " 'M': 1,\n",
       " 'S': 1,\n",
       " 'T': 1,\n",
       " 'P': 1,\n",
       " '!': 2}"
      ]
     },
     "execution_count": 14,
     "metadata": {},
     "output_type": "execute_result"
    }
   ],
   "source": [
    "s=\"Welcome to MSTP!!\"\n",
    "d={}\n",
    "for char in s:\n",
    "     d[char]=d.get(char,0)+1\n",
    "d"
   ]
  },
  {
   "cell_type": "markdown",
   "metadata": {},
   "source": [
    "### Module:"
   ]
  },
  {
   "cell_type": "markdown",
   "metadata": {},
   "source": [
    "* Module is nothing but python file\n",
    "* it may contain attribute classes and methods\n",
    "* we can use 'import' keyword to import required modules in current file"
   ]
  },
  {
   "cell_type": "code",
   "execution_count": 15,
   "metadata": {},
   "outputs": [],
   "source": [
    "import math"
   ]
  },
  {
   "cell_type": "code",
   "execution_count": 16,
   "metadata": {},
   "outputs": [
    {
     "data": {
      "text/plain": [
       "3.141592653589793"
      ]
     },
     "execution_count": 16,
     "metadata": {},
     "output_type": "execute_result"
    }
   ],
   "source": [
    "math.pi"
   ]
  },
  {
   "cell_type": "code",
   "execution_count": 17,
   "metadata": {},
   "outputs": [
    {
     "data": {
      "text/plain": [
       "2.718281828459045"
      ]
     },
     "execution_count": 17,
     "metadata": {},
     "output_type": "execute_result"
    }
   ],
   "source": [
    "math.e"
   ]
  },
  {
   "cell_type": "code",
   "execution_count": 18,
   "metadata": {},
   "outputs": [
    {
     "data": {
      "text/plain": [
       "4.0"
      ]
     },
     "execution_count": 18,
     "metadata": {},
     "output_type": "execute_result"
    }
   ],
   "source": [
    "math.sqrt(16)"
   ]
  },
  {
   "cell_type": "code",
   "execution_count": 19,
   "metadata": {},
   "outputs": [
    {
     "data": {
      "text/plain": [
       "120"
      ]
     },
     "execution_count": 19,
     "metadata": {},
     "output_type": "execute_result"
    }
   ],
   "source": [
    "math.factorial(5)"
   ]
  },
  {
   "cell_type": "code",
   "execution_count": 20,
   "metadata": {},
   "outputs": [
    {
     "data": {
      "text/plain": [
       "16.0"
      ]
     },
     "execution_count": 20,
     "metadata": {},
     "output_type": "execute_result"
    }
   ],
   "source": [
    "math.pow(4,2)"
   ]
  },
  {
   "cell_type": "code",
   "execution_count": 21,
   "metadata": {},
   "outputs": [
    {
     "data": {
      "text/plain": [
       "5"
      ]
     },
     "execution_count": 21,
     "metadata": {},
     "output_type": "execute_result"
    }
   ],
   "source": [
    "math.ceil(4.7)"
   ]
  },
  {
   "cell_type": "code",
   "execution_count": null,
   "metadata": {},
   "outputs": [],
   "source": [
    "#Example program for time and webbrowser modules\n",
    "import webbrowser\n",
    "import time\n",
    "fav_sites=[\"www.google.com\",\"youtube.com\",\"engineering.apssdc.in\"]\n",
    "for url in fav_sites:\n",
    "    webbrowser.open(url)\n",
    "    time.sleep(5)"
   ]
  },
  {
   "cell_type": "code",
   "execution_count": 22,
   "metadata": {},
   "outputs": [
    {
     "data": {
      "text/plain": [
       "5"
      ]
     },
     "execution_count": 22,
     "metadata": {},
     "output_type": "execute_result"
    }
   ],
   "source": [
    "import basic_operations as b\n",
    "b.add(2,3)"
   ]
  },
  {
   "cell_type": "code",
   "execution_count": 23,
   "metadata": {},
   "outputs": [
    {
     "data": {
      "text/plain": [
       "5"
      ]
     },
     "execution_count": 23,
     "metadata": {},
     "output_type": "execute_result"
    }
   ],
   "source": [
    "import basic_operations as b\n",
    "b.sub(7,2)"
   ]
  },
  {
   "cell_type": "code",
   "execution_count": 24,
   "metadata": {},
   "outputs": [
    {
     "data": {
      "text/plain": [
       "2.0"
      ]
     },
     "execution_count": 24,
     "metadata": {},
     "output_type": "execute_result"
    }
   ],
   "source": [
    "import basic_operations as b\n",
    "b.div(4,2)"
   ]
  },
  {
   "cell_type": "code",
   "execution_count": 35,
   "metadata": {},
   "outputs": [],
   "source": [
    "import advanced_operations"
   ]
  },
  {
   "cell_type": "code",
   "execution_count": 36,
   "metadata": {},
   "outputs": [
    {
     "data": {
      "text/plain": [
       "True"
      ]
     },
     "execution_count": 36,
     "metadata": {},
     "output_type": "execute_result"
    }
   ],
   "source": [
    "import advanced_operations as ao\n",
    "ao.isprime(7)"
   ]
  },
  {
   "cell_type": "code",
   "execution_count": 38,
   "metadata": {},
   "outputs": [
    {
     "name": "stdout",
     "output_type": "stream",
     "text": [
      "2\n",
      "3\n",
      "5\n"
     ]
    }
   ],
   "source": [
    "import advanced_operations as s\n",
    "for i in range(2,7):\n",
    "    if s.isprime(i):\n",
    "        print(i)"
   ]
  },
  {
   "cell_type": "code",
   "execution_count": 43,
   "metadata": {},
   "outputs": [
    {
     "data": {
      "text/plain": [
       "12"
      ]
     },
     "execution_count": 43,
     "metadata": {},
     "output_type": "execute_result"
    }
   ],
   "source": [
    "import mypackages.basic_operations as bo\n",
    "bo.add(5,7)"
   ]
  },
  {
   "cell_type": "code",
   "execution_count": 44,
   "metadata": {},
   "outputs": [
    {
     "data": {
      "text/plain": [
       "True"
      ]
     },
     "execution_count": 44,
     "metadata": {},
     "output_type": "execute_result"
    }
   ],
   "source": [
    "import mypackages.advanced_operations as a\n",
    "a.isprime(7)"
   ]
  },
  {
   "cell_type": "code",
   "execution_count": 47,
   "metadata": {},
   "outputs": [],
   "source": [
    "from mypackages import *"
   ]
  },
  {
   "cell_type": "code",
   "execution_count": null,
   "metadata": {},
   "outputs": [],
   "source": []
  }
 ],
 "metadata": {
  "kernelspec": {
   "display_name": "Python 3",
   "language": "python",
   "name": "python3"
  },
  "language_info": {
   "codemirror_mode": {
    "name": "ipython",
    "version": 3
   },
   "file_extension": ".py",
   "mimetype": "text/x-python",
   "name": "python",
   "nbconvert_exporter": "python",
   "pygments_lexer": "ipython3",
   "version": "3.7.3"
  }
 },
 "nbformat": 4,
 "nbformat_minor": 2
}
